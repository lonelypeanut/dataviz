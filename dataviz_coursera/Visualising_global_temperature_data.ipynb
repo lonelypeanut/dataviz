{
 "cells": [
  {
   "cell_type": "markdown",
   "metadata": {},
   "source": [
    "# Visualising Global Temperature Data"
   ]
  },
  {
   "cell_type": "markdown",
   "metadata": {},
   "source": [
    "This notebook is part of Assignment 1 of the Data Visualisation course offered by coursera."
   ]
  },
  {
   "cell_type": "code",
   "execution_count": 1,
   "metadata": {
    "collapsed": false
   },
   "outputs": [],
   "source": [
    "import matplotlib.pylab as pl"
   ]
  },
  {
   "cell_type": "code",
   "execution_count": 2,
   "metadata": {
    "collapsed": false
   },
   "outputs": [],
   "source": [
    "import pandas as pd\n",
    "import numpy as np"
   ]
  },
  {
   "cell_type": "markdown",
   "metadata": {},
   "source": [
    "# 1. Read the data in"
   ]
  },
  {
   "cell_type": "markdown",
   "metadata": {},
   "source": [
    "Out of interest, let's have quick look at the data being provided by coursera."
   ]
  },
  {
   "cell_type": "code",
   "execution_count": 3,
   "metadata": {
    "collapsed": true
   },
   "outputs": [],
   "source": [
    "data_path_1 = 'data/Programming Assignment 1 Data New/'"
   ]
  },
  {
   "cell_type": "code",
   "execution_count": 4,
   "metadata": {
    "collapsed": false
   },
   "outputs": [],
   "source": [
    "season_dat = pd.read_csv(data_path_1 + 'ExcelFormattedGISTEMPDataCSV.csv')"
   ]
  },
  {
   "cell_type": "code",
   "execution_count": 5,
   "metadata": {
    "collapsed": false
   },
   "outputs": [
    {
     "data": {
      "text/html": [
       "<div>\n",
       "<table border=\"1\" class=\"dataframe\">\n",
       "  <thead>\n",
       "    <tr style=\"text-align: right;\">\n",
       "      <th></th>\n",
       "      <th>Year</th>\n",
       "      <th>Jan</th>\n",
       "      <th>Feb</th>\n",
       "      <th>Mar</th>\n",
       "      <th>Apr</th>\n",
       "      <th>May</th>\n",
       "      <th>Jun</th>\n",
       "      <th>Jul</th>\n",
       "      <th>Aug</th>\n",
       "      <th>Sep</th>\n",
       "      <th>Oct</th>\n",
       "      <th>Nov</th>\n",
       "      <th>Dec</th>\n",
       "      <th>J-D</th>\n",
       "      <th>D-N</th>\n",
       "      <th>DJF</th>\n",
       "      <th>MAM</th>\n",
       "      <th>JJA</th>\n",
       "      <th>SON</th>\n",
       "    </tr>\n",
       "  </thead>\n",
       "  <tbody>\n",
       "    <tr>\n",
       "      <th>0</th>\n",
       "      <td>1880</td>\n",
       "      <td>-29</td>\n",
       "      <td>-19</td>\n",
       "      <td>-17</td>\n",
       "      <td>-27</td>\n",
       "      <td>-13</td>\n",
       "      <td>-28</td>\n",
       "      <td>-22</td>\n",
       "      <td>-6</td>\n",
       "      <td>-16</td>\n",
       "      <td>-15</td>\n",
       "      <td>-18</td>\n",
       "      <td>-20</td>\n",
       "      <td>-19</td>\n",
       "      <td>***</td>\n",
       "      <td>****</td>\n",
       "      <td>-19</td>\n",
       "      <td>-19</td>\n",
       "      <td>-16</td>\n",
       "    </tr>\n",
       "    <tr>\n",
       "      <th>1</th>\n",
       "      <td>1881</td>\n",
       "      <td>-8</td>\n",
       "      <td>-13</td>\n",
       "      <td>2</td>\n",
       "      <td>-2</td>\n",
       "      <td>-3</td>\n",
       "      <td>-27</td>\n",
       "      <td>-5</td>\n",
       "      <td>-1</td>\n",
       "      <td>-8</td>\n",
       "      <td>-18</td>\n",
       "      <td>-25</td>\n",
       "      <td>-14</td>\n",
       "      <td>-10</td>\n",
       "      <td>-11</td>\n",
       "      <td>-13</td>\n",
       "      <td>-1</td>\n",
       "      <td>-11</td>\n",
       "      <td>-17</td>\n",
       "    </tr>\n",
       "  </tbody>\n",
       "</table>\n",
       "</div>"
      ],
      "text/plain": [
       "   Year  Jan  Feb  Mar  Apr  May  Jun  Jul Aug  Sep  Oct  Nov  Dec  J-D  D-N  \\\n",
       "0  1880  -29  -19  -17  -27  -13  -28  -22  -6  -16  -15  -18  -20  -19  ***   \n",
       "1  1881   -8  -13    2   -2   -3  -27   -5  -1   -8  -18  -25  -14  -10  -11   \n",
       "\n",
       "    DJF  MAM  JJA  SON  \n",
       "0  ****  -19  -19  -16  \n",
       "1   -13   -1  -11  -17  "
      ]
     },
     "execution_count": 5,
     "metadata": {},
     "output_type": "execute_result"
    }
   ],
   "source": [
    "season_dat.head(2)"
   ]
  },
  {
   "cell_type": "code",
   "execution_count": 6,
   "metadata": {
    "collapsed": false
   },
   "outputs": [
    {
     "data": {
      "text/html": [
       "<div>\n",
       "<table border=\"1\" class=\"dataframe\">\n",
       "  <thead>\n",
       "    <tr style=\"text-align: right;\">\n",
       "      <th></th>\n",
       "      <th>Year</th>\n",
       "      <th>Jan</th>\n",
       "      <th>Feb</th>\n",
       "      <th>Mar</th>\n",
       "      <th>Apr</th>\n",
       "      <th>May</th>\n",
       "      <th>Jun</th>\n",
       "      <th>Jul</th>\n",
       "      <th>Aug</th>\n",
       "      <th>Sep</th>\n",
       "      <th>Oct</th>\n",
       "      <th>Nov</th>\n",
       "      <th>Dec</th>\n",
       "      <th>J-D</th>\n",
       "      <th>D-N</th>\n",
       "      <th>DJF</th>\n",
       "      <th>MAM</th>\n",
       "      <th>JJA</th>\n",
       "      <th>SON</th>\n",
       "    </tr>\n",
       "  </thead>\n",
       "  <tbody>\n",
       "    <tr>\n",
       "      <th>134</th>\n",
       "      <td>2014</td>\n",
       "      <td>74</td>\n",
       "      <td>50</td>\n",
       "      <td>77</td>\n",
       "      <td>78</td>\n",
       "      <td>86</td>\n",
       "      <td>66</td>\n",
       "      <td>58</td>\n",
       "      <td>82</td>\n",
       "      <td>90</td>\n",
       "      <td>86</td>\n",
       "      <td>68</td>\n",
       "      <td>79</td>\n",
       "      <td>75</td>\n",
       "      <td>74</td>\n",
       "      <td>64</td>\n",
       "      <td>81</td>\n",
       "      <td>69</td>\n",
       "      <td>81</td>\n",
       "    </tr>\n",
       "    <tr>\n",
       "      <th>135</th>\n",
       "      <td>2015</td>\n",
       "      <td>82</td>\n",
       "      <td>88</td>\n",
       "      <td>90</td>\n",
       "      <td>74</td>\n",
       "      <td>76</td>\n",
       "      <td>80</td>\n",
       "      <td>****</td>\n",
       "      <td>****</td>\n",
       "      <td>****</td>\n",
       "      <td>****</td>\n",
       "      <td>****</td>\n",
       "      <td>****</td>\n",
       "      <td>****</td>\n",
       "      <td>***</td>\n",
       "      <td>83</td>\n",
       "      <td>80</td>\n",
       "      <td>****</td>\n",
       "      <td>****</td>\n",
       "    </tr>\n",
       "  </tbody>\n",
       "</table>\n",
       "</div>"
      ],
      "text/plain": [
       "     Year  Jan  Feb  Mar  Apr  May  Jun   Jul   Aug   Sep   Oct   Nov   Dec  \\\n",
       "134  2014   74   50   77   78   86   66    58    82    90    86    68    79   \n",
       "135  2015   82   88   90   74   76   80  ****  ****  ****  ****  ****  ****   \n",
       "\n",
       "      J-D  D-N DJF  MAM   JJA   SON  \n",
       "134    75   74  64   81    69    81  \n",
       "135  ****  ***  83   80  ****  ****  "
      ]
     },
     "execution_count": 6,
     "metadata": {},
     "output_type": "execute_result"
    }
   ],
   "source": [
    "season_dat.tail(2)"
   ]
  },
  {
   "cell_type": "code",
   "execution_count": 7,
   "metadata": {
    "collapsed": false
   },
   "outputs": [
    {
     "data": {
      "text/plain": [
       "(136, 19)"
      ]
     },
     "execution_count": 7,
     "metadata": {},
     "output_type": "execute_result"
    }
   ],
   "source": [
    "season_dat.shape"
   ]
  },
  {
   "cell_type": "code",
   "execution_count": 8,
   "metadata": {
    "collapsed": true
   },
   "outputs": [],
   "source": [
    "hem_data = pd.read_csv(data_path_1 + 'ExcelFormattedGISTEMPData2CSV.csv')"
   ]
  },
  {
   "cell_type": "code",
   "execution_count": 9,
   "metadata": {
    "collapsed": false
   },
   "outputs": [
    {
     "data": {
      "text/plain": [
       "(135, 15)"
      ]
     },
     "execution_count": 9,
     "metadata": {},
     "output_type": "execute_result"
    }
   ],
   "source": [
    "hem_data.shape"
   ]
  },
  {
   "cell_type": "code",
   "execution_count": 10,
   "metadata": {
    "collapsed": false
   },
   "outputs": [
    {
     "data": {
      "text/html": [
       "<div>\n",
       "<table border=\"1\" class=\"dataframe\">\n",
       "  <thead>\n",
       "    <tr style=\"text-align: right;\">\n",
       "      <th></th>\n",
       "      <th>Year</th>\n",
       "      <th>Glob</th>\n",
       "      <th>NHem</th>\n",
       "      <th>SHem</th>\n",
       "      <th>24N-90N</th>\n",
       "      <th>24S-24N</th>\n",
       "      <th>90S-24S</th>\n",
       "      <th>64N-90N</th>\n",
       "      <th>44N-64N</th>\n",
       "      <th>24N-44N</th>\n",
       "      <th>EQU-24N</th>\n",
       "      <th>24S-EQU</th>\n",
       "      <th>44S-24S</th>\n",
       "      <th>64S-44S</th>\n",
       "      <th>90S-64S</th>\n",
       "    </tr>\n",
       "  </thead>\n",
       "  <tbody>\n",
       "    <tr>\n",
       "      <th>0</th>\n",
       "      <td>1880</td>\n",
       "      <td>-19</td>\n",
       "      <td>-33</td>\n",
       "      <td>-5</td>\n",
       "      <td>-38</td>\n",
       "      <td>-16</td>\n",
       "      <td>-5</td>\n",
       "      <td>-89</td>\n",
       "      <td>-54</td>\n",
       "      <td>-22</td>\n",
       "      <td>-26</td>\n",
       "      <td>-5</td>\n",
       "      <td>-2</td>\n",
       "      <td>-8</td>\n",
       "      <td>39</td>\n",
       "    </tr>\n",
       "    <tr>\n",
       "      <th>1</th>\n",
       "      <td>1881</td>\n",
       "      <td>-10</td>\n",
       "      <td>-18</td>\n",
       "      <td>-2</td>\n",
       "      <td>-27</td>\n",
       "      <td>-2</td>\n",
       "      <td>-5</td>\n",
       "      <td>-54</td>\n",
       "      <td>-40</td>\n",
       "      <td>-14</td>\n",
       "      <td>-5</td>\n",
       "      <td>2</td>\n",
       "      <td>-6</td>\n",
       "      <td>-3</td>\n",
       "      <td>37</td>\n",
       "    </tr>\n",
       "  </tbody>\n",
       "</table>\n",
       "</div>"
      ],
      "text/plain": [
       "   Year  Glob  NHem  SHem  24N-90N  24S-24N  90S-24S  64N-90N  44N-64N  \\\n",
       "0  1880   -19   -33    -5      -38      -16       -5      -89      -54   \n",
       "1  1881   -10   -18    -2      -27       -2       -5      -54      -40   \n",
       "\n",
       "   24N-44N  EQU-24N  24S-EQU  44S-24S  64S-44S  90S-64S  \n",
       "0      -22      -26       -5       -2       -8       39  \n",
       "1      -14       -5        2       -6       -3       37  "
      ]
     },
     "execution_count": 10,
     "metadata": {},
     "output_type": "execute_result"
    }
   ],
   "source": [
    "hem_data.head(2)"
   ]
  },
  {
   "cell_type": "code",
   "execution_count": 11,
   "metadata": {
    "collapsed": false
   },
   "outputs": [
    {
     "data": {
      "text/html": [
       "<div>\n",
       "<table border=\"1\" class=\"dataframe\">\n",
       "  <thead>\n",
       "    <tr style=\"text-align: right;\">\n",
       "      <th></th>\n",
       "      <th>Year</th>\n",
       "      <th>Glob</th>\n",
       "      <th>NHem</th>\n",
       "      <th>SHem</th>\n",
       "      <th>24N-90N</th>\n",
       "      <th>24S-24N</th>\n",
       "      <th>90S-24S</th>\n",
       "      <th>64N-90N</th>\n",
       "      <th>44N-64N</th>\n",
       "      <th>24N-44N</th>\n",
       "      <th>EQU-24N</th>\n",
       "      <th>24S-EQU</th>\n",
       "      <th>44S-24S</th>\n",
       "      <th>64S-44S</th>\n",
       "      <th>90S-64S</th>\n",
       "    </tr>\n",
       "  </thead>\n",
       "  <tbody>\n",
       "    <tr>\n",
       "      <th>133</th>\n",
       "      <td>2013</td>\n",
       "      <td>66</td>\n",
       "      <td>76</td>\n",
       "      <td>56</td>\n",
       "      <td>88</td>\n",
       "      <td>58</td>\n",
       "      <td>54</td>\n",
       "      <td>123</td>\n",
       "      <td>103</td>\n",
       "      <td>68</td>\n",
       "      <td>57</td>\n",
       "      <td>58</td>\n",
       "      <td>64</td>\n",
       "      <td>30</td>\n",
       "      <td>67</td>\n",
       "    </tr>\n",
       "    <tr>\n",
       "      <th>134</th>\n",
       "      <td>2014</td>\n",
       "      <td>75</td>\n",
       "      <td>91</td>\n",
       "      <td>58</td>\n",
       "      <td>106</td>\n",
       "      <td>67</td>\n",
       "      <td>54</td>\n",
       "      <td>185</td>\n",
       "      <td>113</td>\n",
       "      <td>76</td>\n",
       "      <td>70</td>\n",
       "      <td>64</td>\n",
       "      <td>76</td>\n",
       "      <td>23</td>\n",
       "      <td>47</td>\n",
       "    </tr>\n",
       "  </tbody>\n",
       "</table>\n",
       "</div>"
      ],
      "text/plain": [
       "     Year  Glob  NHem  SHem  24N-90N  24S-24N  90S-24S  64N-90N  44N-64N  \\\n",
       "133  2013    66    76    56       88       58       54      123      103   \n",
       "134  2014    75    91    58      106       67       54      185      113   \n",
       "\n",
       "     24N-44N  EQU-24N  24S-EQU  44S-24S  64S-44S  90S-64S  \n",
       "133       68       57       58       64       30       67  \n",
       "134       76       70       64       76       23       47  "
      ]
     },
     "execution_count": 11,
     "metadata": {},
     "output_type": "execute_result"
    }
   ],
   "source": [
    "hem_data.tail(2)"
   ]
  },
  {
   "cell_type": "markdown",
   "metadata": {},
   "source": [
    "# 2. Global Temperatures"
   ]
  },
  {
   "cell_type": "markdown",
   "metadata": {},
   "source": [
    "Note: values are in Celsius * 100."
   ]
  },
  {
   "cell_type": "code",
   "execution_count": 12,
   "metadata": {
    "collapsed": false
   },
   "outputs": [
    {
     "data": {
      "text/plain": [
       "Index(['Year', 'Glob', 'NHem', 'SHem', '24N-90N', '24S-24N', '90S-24S',\n",
       "       '64N-90N', '44N-64N', '24N-44N', 'EQU-24N', '24S-EQU', '44S-24S',\n",
       "       '64S-44S', '90S-64S'],\n",
       "      dtype='object')"
      ]
     },
     "execution_count": 12,
     "metadata": {},
     "output_type": "execute_result"
    }
   ],
   "source": [
    "# clean the data a little first:\n",
    "hem_data.columns"
   ]
  },
  {
   "cell_type": "code",
   "execution_count": 13,
   "metadata": {
    "collapsed": false
   },
   "outputs": [],
   "source": [
    "hem_data.columns = [x.upper() for x in hem_data.columns]"
   ]
  },
  {
   "cell_type": "code",
   "execution_count": 14,
   "metadata": {
    "collapsed": false
   },
   "outputs": [],
   "source": [
    "hem_data.set_index('YEAR', inplace=True)"
   ]
  },
  {
   "cell_type": "code",
   "execution_count": 15,
   "metadata": {
    "collapsed": false
   },
   "outputs": [
    {
     "data": {
      "image/png": "[encoded data removed]",
      "text/plain": [
       "<matplotlib.figure.Figure at 0x109545c50>"
      ]
     },
     "metadata": {},
     "output_type": "display_data"
    }
   ],
   "source": [
    "pl.figure(figsize=(15, 5))\n",
    "\n",
    "for i in hem_data.columns[0:3]:\n",
    "    \n",
    "    pl.plot(hem_data.index, hem_data[i], label=i)\n",
    "\n",
    "pl.title('Global Mean Devations from the mean from 1880 to today')\n",
    "pl.xlim(hem_data.index.min(), hem_data.index.max())\n",
    "pl.xlabel('Years')\n",
    "pl.ylabel('Temperature in Fahrenheit')\n",
    "pl.legend(loc='lower right')\n",
    "pl.show()"
   ]
  },
  {
   "cell_type": "markdown",
   "metadata": {},
   "source": [
    "Let's have a look at monthly averages and see if we can extract any more..."
   ]
  },
  {
   "cell_type": "code",
   "execution_count": 16,
   "metadata": {
    "collapsed": false
   },
   "outputs": [
    {
     "data": {
      "text/plain": [
       "Index(['Year', 'Jan', 'Feb', 'Mar', 'Apr', 'May', 'Jun', 'Jul', 'Aug', 'Sep',\n",
       "       'Oct', 'Nov', 'Dec', 'J-D', 'D-N', 'DJF', 'MAM', 'JJA', 'SON'],\n",
       "      dtype='object')"
      ]
     },
     "execution_count": 16,
     "metadata": {},
     "output_type": "execute_result"
    }
   ],
   "source": [
    "season_dat.columns"
   ]
  },
  {
   "cell_type": "code",
   "execution_count": 17,
   "metadata": {
    "collapsed": false
   },
   "outputs": [
    {
     "data": {
      "text/html": [
       "<div>\n",
       "<table border=\"1\" class=\"dataframe\">\n",
       "  <thead>\n",
       "    <tr style=\"text-align: right;\">\n",
       "      <th></th>\n",
       "      <th>Year</th>\n",
       "      <th>Jan</th>\n",
       "      <th>Feb</th>\n",
       "      <th>Mar</th>\n",
       "      <th>Apr</th>\n",
       "      <th>May</th>\n",
       "      <th>Jun</th>\n",
       "      <th>Jul</th>\n",
       "      <th>Aug</th>\n",
       "      <th>Sep</th>\n",
       "      <th>Oct</th>\n",
       "      <th>Nov</th>\n",
       "      <th>Dec</th>\n",
       "      <th>J-D</th>\n",
       "      <th>D-N</th>\n",
       "      <th>DJF</th>\n",
       "      <th>MAM</th>\n",
       "      <th>JJA</th>\n",
       "      <th>SON</th>\n",
       "    </tr>\n",
       "  </thead>\n",
       "  <tbody>\n",
       "    <tr>\n",
       "      <th>134</th>\n",
       "      <td>2014</td>\n",
       "      <td>74</td>\n",
       "      <td>50</td>\n",
       "      <td>77</td>\n",
       "      <td>78</td>\n",
       "      <td>86</td>\n",
       "      <td>66</td>\n",
       "      <td>58</td>\n",
       "      <td>82</td>\n",
       "      <td>90</td>\n",
       "      <td>86</td>\n",
       "      <td>68</td>\n",
       "      <td>79</td>\n",
       "      <td>75</td>\n",
       "      <td>74</td>\n",
       "      <td>64</td>\n",
       "      <td>81</td>\n",
       "      <td>69</td>\n",
       "      <td>81</td>\n",
       "    </tr>\n",
       "    <tr>\n",
       "      <th>135</th>\n",
       "      <td>2015</td>\n",
       "      <td>82</td>\n",
       "      <td>88</td>\n",
       "      <td>90</td>\n",
       "      <td>74</td>\n",
       "      <td>76</td>\n",
       "      <td>80</td>\n",
       "      <td>****</td>\n",
       "      <td>****</td>\n",
       "      <td>****</td>\n",
       "      <td>****</td>\n",
       "      <td>****</td>\n",
       "      <td>****</td>\n",
       "      <td>****</td>\n",
       "      <td>***</td>\n",
       "      <td>83</td>\n",
       "      <td>80</td>\n",
       "      <td>****</td>\n",
       "      <td>****</td>\n",
       "    </tr>\n",
       "  </tbody>\n",
       "</table>\n",
       "</div>"
      ],
      "text/plain": [
       "     Year  Jan  Feb  Mar  Apr  May  Jun   Jul   Aug   Sep   Oct   Nov   Dec  \\\n",
       "134  2014   74   50   77   78   86   66    58    82    90    86    68    79   \n",
       "135  2015   82   88   90   74   76   80  ****  ****  ****  ****  ****  ****   \n",
       "\n",
       "      J-D  D-N DJF  MAM   JJA   SON  \n",
       "134    75   74  64   81    69    81  \n",
       "135  ****  ***  83   80  ****  ****  "
      ]
     },
     "execution_count": 17,
     "metadata": {},
     "output_type": "execute_result"
    }
   ],
   "source": [
    "season_dat.tail(2)"
   ]
  },
  {
   "cell_type": "code",
   "execution_count": 18,
   "metadata": {
    "collapsed": false
   },
   "outputs": [],
   "source": [
    "season_dat.replace('****', np.nan, inplace=True)\n",
    "season_dat.replace('***', np.nan, inplace=True)"
   ]
  },
  {
   "cell_type": "code",
   "execution_count": 19,
   "metadata": {
    "collapsed": true
   },
   "outputs": [],
   "source": [
    "season_dat.columns = [x.upper() for x in season_dat.columns]"
   ]
  },
  {
   "cell_type": "code",
   "execution_count": 20,
   "metadata": {
    "collapsed": false
   },
   "outputs": [],
   "source": [
    "season_dat.columns = [x.upper() for x in season_dat.columns]\n",
    "season_dat.set_index('YEAR', inplace=True)"
   ]
  },
  {
   "cell_type": "code",
   "execution_count": 21,
   "metadata": {
    "collapsed": false
   },
   "outputs": [
    {
     "data": {
      "image/png": "[encoded data removed]",
      "text/plain": [
       "<matplotlib.figure.Figure at 0x1095558d0>"
      ]
     },
     "metadata": {},
     "output_type": "display_data"
    }
   ],
   "source": [
    "pl.figure(figsize=(15, 5))\n",
    "\n",
    "for i in season_dat.columns[0:2]:\n",
    "    pl.plot(season_dat.index, season_dat[i], label=i)\n",
    "\n",
    "# pl.title('Global Mean Temperatures from 1880 to today')\n",
    "pl.xlim(season_dat.index.min(), season_dat.index.max())\n",
    "pl.xlabel('Years')\n",
    "pl.ylabel('Temperature in Fahrenheit')\n",
    "pl.legend(loc='lower right')\n",
    "pl.show()"
   ]
  },
  {
   "cell_type": "markdown",
   "metadata": {},
   "source": [
    "What we're really interested in showing is how each month got warmer or colder over time, or if that's too complicated than show how the seasons have evolved over time. The question is **HOW?**\n",
    "\n",
    "Can start by asking ourselves some questions:\n",
    "\n",
    "\n",
    "- did one hemisphere 'heat up' faster than another?\n",
    "- similar to the above, can we pinpoint a specific latitude? (i.e. if we were to eventually display the latitude on a map, would industrial cities pop up?)\n",
    "- what was the highest ever temperature in July? more generally, display global records.\n",
    "- ..."
   ]
  },
  {
   "cell_type": "code",
   "execution_count": 22,
   "metadata": {
    "collapsed": false,
    "scrolled": false
   },
   "outputs": [
    {
     "name": "stdout",
     "output_type": "stream",
     "text": [
      "JAN\n"
     ]
    },
    {
     "data": {
      "image/png": "[encoded data removed]",
      "text/plain": [
       "<matplotlib.figure.Figure at 0x109781c50>"
      ]
     },
     "metadata": {},
     "output_type": "display_data"
    },
    {
     "name": "stdout",
     "output_type": "stream",
     "text": [
      "FEB\n"
     ]
    },
    {
     "data": {
      "image/png": "[encoded data removed]",
      "text/plain": [
       "<matplotlib.figure.Figure at 0x109f54e80>"
      ]
     },
     "metadata": {},
     "output_type": "display_data"
    }
   ],
   "source": [
    "# try a bar chart for a single month:\n",
    "for i in season_dat.columns[0:2]:\n",
    "    print(i)\n",
    "    if i in ['JAN', 'FEB', 'MAR', 'APR', 'MAY', 'JUN']:\n",
    "        tmp = season_dat[i]\n",
    "    else:\n",
    "        tmp = tmp[[i]][:-1]\n",
    "    \n",
    "    pl.figure(figsize=(8, 3))\n",
    "    index = season_dat.index\n",
    "    bar_width = 0.35\n",
    "    pl.bar(tmp.index, tmp, bar_width, alpha=0.2, color='b')\n",
    "    pl.plot(hem_data.index, hem_data.GLOB, label='global', alpha=0.9, linewidth=1)\n",
    "    # plt.xticks(index + bar_width, ('A', 'B', 'C', 'D', 'E'))\n",
    "    \n",
    "    pl.title('Month of ' + i)\n",
    "    pl.xlim(season_dat.index.min(), season_dat.index.max())\n",
    "    pl.xlabel('Years')\n",
    "    pl.ylabel('Temperature in Fahrenheit')\n",
    "    pl.show()"
   ]
  },
  {
   "cell_type": "markdown",
   "metadata": {},
   "source": [
    "Can't really get this to show anything interesting..\n",
    "\n",
    "Next plan: plot 12 months for selected years, e.g. 1880, 1940, 2000 and then today as a start."
   ]
  },
  {
   "cell_type": "code",
   "execution_count": 23,
   "metadata": {
    "collapsed": false
   },
   "outputs": [
    {
     "data": {
      "text/html": [
       "<div>\n",
       "<table border=\"1\" class=\"dataframe\">\n",
       "  <thead>\n",
       "    <tr style=\"text-align: right;\">\n",
       "      <th></th>\n",
       "      <th>JAN</th>\n",
       "      <th>FEB</th>\n",
       "      <th>MAR</th>\n",
       "      <th>APR</th>\n",
       "      <th>MAY</th>\n",
       "      <th>JUN</th>\n",
       "      <th>JUL</th>\n",
       "      <th>AUG</th>\n",
       "      <th>SEP</th>\n",
       "      <th>OCT</th>\n",
       "      <th>NOV</th>\n",
       "      <th>DEC</th>\n",
       "      <th>J-D</th>\n",
       "      <th>D-N</th>\n",
       "      <th>DJF</th>\n",
       "      <th>MAM</th>\n",
       "      <th>JJA</th>\n",
       "      <th>SON</th>\n",
       "    </tr>\n",
       "    <tr>\n",
       "      <th>YEAR</th>\n",
       "      <th></th>\n",
       "      <th></th>\n",
       "      <th></th>\n",
       "      <th></th>\n",
       "      <th></th>\n",
       "      <th></th>\n",
       "      <th></th>\n",
       "      <th></th>\n",
       "      <th></th>\n",
       "      <th></th>\n",
       "      <th></th>\n",
       "      <th></th>\n",
       "      <th></th>\n",
       "      <th></th>\n",
       "      <th></th>\n",
       "      <th></th>\n",
       "      <th></th>\n",
       "      <th></th>\n",
       "    </tr>\n",
       "  </thead>\n",
       "  <tbody>\n",
       "    <tr>\n",
       "      <th>1880</th>\n",
       "      <td>-29</td>\n",
       "      <td>-19</td>\n",
       "      <td>-17</td>\n",
       "      <td>-27</td>\n",
       "      <td>-13</td>\n",
       "      <td>-28</td>\n",
       "      <td>-22</td>\n",
       "      <td>-6</td>\n",
       "      <td>-16</td>\n",
       "      <td>-15</td>\n",
       "      <td>-18</td>\n",
       "      <td>-20</td>\n",
       "      <td>-19</td>\n",
       "      <td>NaN</td>\n",
       "      <td>NaN</td>\n",
       "      <td>-19</td>\n",
       "      <td>-19</td>\n",
       "      <td>-16</td>\n",
       "    </tr>\n",
       "    <tr>\n",
       "      <th>1881</th>\n",
       "      <td>-8</td>\n",
       "      <td>-13</td>\n",
       "      <td>2</td>\n",
       "      <td>-2</td>\n",
       "      <td>-3</td>\n",
       "      <td>-27</td>\n",
       "      <td>-5</td>\n",
       "      <td>-1</td>\n",
       "      <td>-8</td>\n",
       "      <td>-18</td>\n",
       "      <td>-25</td>\n",
       "      <td>-14</td>\n",
       "      <td>-10</td>\n",
       "      <td>-11</td>\n",
       "      <td>-13</td>\n",
       "      <td>-1</td>\n",
       "      <td>-11</td>\n",
       "      <td>-17</td>\n",
       "    </tr>\n",
       "  </tbody>\n",
       "</table>\n",
       "</div>"
      ],
      "text/plain": [
       "      JAN  FEB  MAR  APR  MAY  JUN  JUL AUG  SEP  OCT  NOV  DEC  J-D  D-N  \\\n",
       "YEAR                                                                        \n",
       "1880  -29  -19  -17  -27  -13  -28  -22  -6  -16  -15  -18  -20  -19  NaN   \n",
       "1881   -8  -13    2   -2   -3  -27   -5  -1   -8  -18  -25  -14  -10  -11   \n",
       "\n",
       "      DJF  MAM  JJA  SON  \n",
       "YEAR                      \n",
       "1880  NaN  -19  -19  -16  \n",
       "1881  -13   -1  -11  -17  "
      ]
     },
     "execution_count": 23,
     "metadata": {},
     "output_type": "execute_result"
    }
   ],
   "source": [
    "season_dat.head(2)"
   ]
  },
  {
   "cell_type": "code",
   "execution_count": 24,
   "metadata": {
    "collapsed": false
   },
   "outputs": [
    {
     "data": {
      "text/plain": [
       "Index(['JAN', 'FEB', 'MAR', 'APR', 'MAY', 'JUN', 'JUL', 'AUG', 'SEP', 'OCT',\n",
       "       'NOV', 'DEC', 'J-D', 'D-N', 'DJF', 'MAM', 'JJA', 'SON'],\n",
       "      dtype='object')"
      ]
     },
     "execution_count": 24,
     "metadata": {},
     "output_type": "execute_result"
    }
   ],
   "source": [
    "season_dat.columns"
   ]
  },
  {
   "cell_type": "code",
   "execution_count": 25,
   "metadata": {
    "collapsed": true
   },
   "outputs": [],
   "source": [
    "MONTHS = ['JAN', 'FEB', 'MAR', 'APR', 'MAY', 'JUN', 'JUL', 'AUG', 'SEP', 'OCT',\n",
    "       'NOV', 'DEC']"
   ]
  },
  {
   "cell_type": "code",
   "execution_count": 26,
   "metadata": {
    "collapsed": true
   },
   "outputs": [],
   "source": [
    "YEARS = [1880, 1940, 2000, 2016]"
   ]
  },
  {
   "cell_type": "code",
   "execution_count": 27,
   "metadata": {
    "collapsed": false
   },
   "outputs": [],
   "source": [
    "tmp = season_dat[season_dat.index.isin(YEARS)]\n",
    "tmp = tmp[MONTHS]"
   ]
  },
  {
   "cell_type": "code",
   "execution_count": 28,
   "metadata": {
    "collapsed": false
   },
   "outputs": [],
   "source": [
    "test = pd.DataFrame(tmp.T)"
   ]
  },
  {
   "cell_type": "code",
   "execution_count": 29,
   "metadata": {
    "collapsed": false
   },
   "outputs": [],
   "source": [
    "test.columns = ['year_' + str(x) for x in test.columns]"
   ]
  },
  {
   "cell_type": "code",
   "execution_count": 30,
   "metadata": {
    "collapsed": true
   },
   "outputs": [],
   "source": [
    "for x in test.columns:\n",
    "    test[x] = pd.to_numeric(test[x])"
   ]
  },
  {
   "cell_type": "code",
   "execution_count": 31,
   "metadata": {
    "collapsed": false
   },
   "outputs": [
    {
     "data": {
      "image/png": "[encoded data removed]",
      "text/plain": [
       "<matplotlib.figure.Figure at 0x10a337f60>"
      ]
     },
     "metadata": {},
     "output_type": "display_data"
    }
   ],
   "source": [
    "# Add 2015 or 2016\n",
    "# Add another plot with northern / southern hemisphere\n",
    "\n",
    "pl.figure(figsize=(15, 5))\n",
    "\n",
    "index = np.arange(12)\n",
    "bar_width = 0.20\n",
    "opacity = 0.6\n",
    "\n",
    "year_1880 = test.year_1880.values\n",
    "year_1940 = test.year_1940.values\n",
    "year_2000 = test.year_2000.values\n",
    "\n",
    "rects1 = pl.bar(index, year_1880, bar_width,\n",
    "                 alpha=opacity,\n",
    "                 color='b',\n",
    "                 label='1880')\n",
    "\n",
    "rects2 = pl.bar(index + bar_width, year_1940, bar_width,\n",
    "                 alpha=opacity,\n",
    "                 color='r',\n",
    "                 label='1940')\n",
    "\n",
    "rects3 = pl.bar(index + bar_width * 2, year_2000, bar_width,\n",
    "                 alpha=opacity,\n",
    "                 color='y',\n",
    "                 label='2000')\n",
    "\n",
    "pl.ylim(-40, 70)\n",
    "pl.xlim(-1, 13)\n",
    "pl.xlabel('Months of the year', size=12)\n",
    "pl.ylabel('Temperature in 0.01 Celsius', size=12)\n",
    "pl.xticks(index + bar_width * 2, ('JAN', 'FEB', 'MAR', 'APR', 'MAY', 'JUN', 'JUL', 'AUG', 'SEP', 'OCT',\n",
    "       'NOV', 'DEC'))\n",
    "\n",
    "pl.legend(loc='lower right')\n",
    "pl.title('Mean Global Temperature')\n",
    "pl.grid()\n",
    "pl.show()"
   ]
  },
  {
   "cell_type": "markdown",
   "metadata": {},
   "source": [
    "# 3. Using the NASA datasets directly:"
   ]
  },
  {
   "cell_type": "markdown",
   "metadata": {},
   "source": [
    "I downloaded the data from the NASA website directly. Let's pull in the monthly data for the 2 hemispheres:"
   ]
  },
  {
   "cell_type": "code",
   "execution_count": 32,
   "metadata": {
    "collapsed": false
   },
   "outputs": [],
   "source": [
    "northern = pd.read_csv('data/NH.Ts+dSST.csv', header=1)\n",
    "northern.columns = [x.upper() for x in northern.columns]\n",
    "northern.set_index('YEAR', inplace=True)"
   ]
  },
  {
   "cell_type": "code",
   "execution_count": 33,
   "metadata": {
    "collapsed": false
   },
   "outputs": [],
   "source": [
    "southern = pd.read_csv('data/SH.Ts+dSST.csv', header=1)\n",
    "southern.columns = [x.upper() for x in southern.columns]\n",
    "southern.set_index('YEAR', inplace=True)"
   ]
  },
  {
   "cell_type": "code",
   "execution_count": 34,
   "metadata": {
    "collapsed": false
   },
   "outputs": [
    {
     "data": {
      "text/html": [
       "<div>\n",
       "<table border=\"1\" class=\"dataframe\">\n",
       "  <thead>\n",
       "    <tr style=\"text-align: right;\">\n",
       "      <th></th>\n",
       "      <th>JAN</th>\n",
       "      <th>FEB</th>\n",
       "      <th>MAR</th>\n",
       "      <th>APR</th>\n",
       "      <th>MAY</th>\n",
       "      <th>JUN</th>\n",
       "      <th>JUL</th>\n",
       "      <th>AUG</th>\n",
       "      <th>SEP</th>\n",
       "      <th>OCT</th>\n",
       "      <th>NOV</th>\n",
       "      <th>DEC</th>\n",
       "      <th>J-D</th>\n",
       "      <th>D-N</th>\n",
       "      <th>DJF</th>\n",
       "      <th>MAM</th>\n",
       "      <th>JJA</th>\n",
       "      <th>SON</th>\n",
       "    </tr>\n",
       "    <tr>\n",
       "      <th>YEAR</th>\n",
       "      <th></th>\n",
       "      <th></th>\n",
       "      <th></th>\n",
       "      <th></th>\n",
       "      <th></th>\n",
       "      <th></th>\n",
       "      <th></th>\n",
       "      <th></th>\n",
       "      <th></th>\n",
       "      <th></th>\n",
       "      <th></th>\n",
       "      <th></th>\n",
       "      <th></th>\n",
       "      <th></th>\n",
       "      <th></th>\n",
       "      <th></th>\n",
       "      <th></th>\n",
       "      <th></th>\n",
       "    </tr>\n",
       "  </thead>\n",
       "  <tbody>\n",
       "    <tr>\n",
       "      <th>1880</th>\n",
       "      <td>-0.54</td>\n",
       "      <td>-0.44</td>\n",
       "      <td>-0.3</td>\n",
       "      <td>-0.47</td>\n",
       "      <td>-0.12</td>\n",
       "      <td>-0.27</td>\n",
       "      <td>-.29</td>\n",
       "      <td>-.29</td>\n",
       "      <td>-.34</td>\n",
       "      <td>-.27</td>\n",
       "      <td>-.39</td>\n",
       "      <td>-.41</td>\n",
       "      <td>-.34</td>\n",
       "      <td>***</td>\n",
       "      <td>***</td>\n",
       "      <td>-0.3</td>\n",
       "      <td>-.29</td>\n",
       "      <td>-.33</td>\n",
       "    </tr>\n",
       "  </tbody>\n",
       "</table>\n",
       "</div>"
      ],
      "text/plain": [
       "       JAN   FEB  MAR   APR   MAY   JUN   JUL   AUG   SEP   OCT   NOV   DEC  \\\n",
       "YEAR                                                                          \n",
       "1880 -0.54 -0.44 -0.3 -0.47 -0.12 -0.27  -.29  -.29  -.34  -.27  -.39  -.41   \n",
       "\n",
       "       J-D  D-N  DJF  MAM   JJA   SON  \n",
       "YEAR                                   \n",
       "1880  -.34  ***  *** -0.3  -.29  -.33  "
      ]
     },
     "execution_count": 34,
     "metadata": {},
     "output_type": "execute_result"
    }
   ],
   "source": [
    "northern.head(1)"
   ]
  },
  {
   "cell_type": "code",
   "execution_count": 35,
   "metadata": {
    "collapsed": false
   },
   "outputs": [
    {
     "data": {
      "text/html": [
       "<div>\n",
       "<table border=\"1\" class=\"dataframe\">\n",
       "  <thead>\n",
       "    <tr style=\"text-align: right;\">\n",
       "      <th></th>\n",
       "      <th>JAN</th>\n",
       "      <th>FEB</th>\n",
       "      <th>MAR</th>\n",
       "      <th>APR</th>\n",
       "      <th>MAY</th>\n",
       "      <th>JUN</th>\n",
       "      <th>JUL</th>\n",
       "      <th>AUG</th>\n",
       "      <th>SEP</th>\n",
       "      <th>OCT</th>\n",
       "      <th>NOV</th>\n",
       "      <th>DEC</th>\n",
       "      <th>J-D</th>\n",
       "      <th>D-N</th>\n",
       "      <th>DJF</th>\n",
       "      <th>MAM</th>\n",
       "      <th>JJA</th>\n",
       "      <th>SON</th>\n",
       "    </tr>\n",
       "    <tr>\n",
       "      <th>YEAR</th>\n",
       "      <th></th>\n",
       "      <th></th>\n",
       "      <th></th>\n",
       "      <th></th>\n",
       "      <th></th>\n",
       "      <th></th>\n",
       "      <th></th>\n",
       "      <th></th>\n",
       "      <th></th>\n",
       "      <th></th>\n",
       "      <th></th>\n",
       "      <th></th>\n",
       "      <th></th>\n",
       "      <th></th>\n",
       "      <th></th>\n",
       "      <th></th>\n",
       "      <th></th>\n",
       "      <th></th>\n",
       "    </tr>\n",
       "  </thead>\n",
       "  <tbody>\n",
       "    <tr>\n",
       "      <th>1880</th>\n",
       "      <td>-0.05</td>\n",
       "      <td>0.03</td>\n",
       "      <td>-0.06</td>\n",
       "      <td>-0.08</td>\n",
       "      <td>-0.17</td>\n",
       "      <td>-0.3</td>\n",
       "      <td>-.18</td>\n",
       "      <td>.14</td>\n",
       "      <td>.01</td>\n",
       "      <td>-.05</td>\n",
       "      <td>.02</td>\n",
       "      <td>-.01</td>\n",
       "      <td>-.06</td>\n",
       "      <td>***</td>\n",
       "      <td>***</td>\n",
       "      <td>-0.1</td>\n",
       "      <td>-.11</td>\n",
       "      <td>-.01</td>\n",
       "    </tr>\n",
       "  </tbody>\n",
       "</table>\n",
       "</div>"
      ],
      "text/plain": [
       "       JAN   FEB   MAR   APR   MAY  JUN   JUL  AUG  SEP   OCT  NOV   DEC  \\\n",
       "YEAR                                                                       \n",
       "1880 -0.05  0.03 -0.06 -0.08 -0.17 -0.3  -.18  .14  .01  -.05  .02  -.01   \n",
       "\n",
       "       J-D  D-N  DJF  MAM   JJA   SON  \n",
       "YEAR                                   \n",
       "1880  -.06  ***  *** -0.1  -.11  -.01  "
      ]
     },
     "execution_count": 35,
     "metadata": {},
     "output_type": "execute_result"
    }
   ],
   "source": [
    "southern.head(1)"
   ]
  },
  {
   "cell_type": "code",
   "execution_count": 36,
   "metadata": {
    "collapsed": false
   },
   "outputs": [],
   "source": [
    "glob = pd.read_csv('data/GLB.Ts.csv', header=1)"
   ]
  },
  {
   "cell_type": "code",
   "execution_count": 37,
   "metadata": {
    "collapsed": false
   },
   "outputs": [],
   "source": [
    "glob.columns = [x.upper() for x in glob.columns]\n",
    "glob.set_index('YEAR', inplace=True)"
   ]
  },
  {
   "cell_type": "code",
   "execution_count": 38,
   "metadata": {
    "collapsed": false
   },
   "outputs": [
    {
     "data": {
      "text/html": [
       "<div>\n",
       "<table border=\"1\" class=\"dataframe\">\n",
       "  <thead>\n",
       "    <tr style=\"text-align: right;\">\n",
       "      <th></th>\n",
       "      <th>JAN</th>\n",
       "      <th>FEB</th>\n",
       "      <th>MAR</th>\n",
       "      <th>APR</th>\n",
       "      <th>MAY</th>\n",
       "      <th>JUN</th>\n",
       "      <th>JUL</th>\n",
       "      <th>AUG</th>\n",
       "      <th>SEP</th>\n",
       "      <th>OCT</th>\n",
       "      <th>NOV</th>\n",
       "      <th>DEC</th>\n",
       "      <th>J-D</th>\n",
       "      <th>D-N</th>\n",
       "      <th>DJF</th>\n",
       "      <th>MAM</th>\n",
       "      <th>JJA</th>\n",
       "      <th>SON</th>\n",
       "    </tr>\n",
       "    <tr>\n",
       "      <th>YEAR</th>\n",
       "      <th></th>\n",
       "      <th></th>\n",
       "      <th></th>\n",
       "      <th></th>\n",
       "      <th></th>\n",
       "      <th></th>\n",
       "      <th></th>\n",
       "      <th></th>\n",
       "      <th></th>\n",
       "      <th></th>\n",
       "      <th></th>\n",
       "      <th></th>\n",
       "      <th></th>\n",
       "      <th></th>\n",
       "      <th></th>\n",
       "      <th></th>\n",
       "      <th></th>\n",
       "      <th></th>\n",
       "    </tr>\n",
       "  </thead>\n",
       "  <tbody>\n",
       "    <tr>\n",
       "      <th>1880</th>\n",
       "      <td>-0.83</td>\n",
       "      <td>-0.40</td>\n",
       "      <td>-0.48</td>\n",
       "      <td>-0.67</td>\n",
       "      <td>-0.37</td>\n",
       "      <td>-0.49</td>\n",
       "      <td>-.49</td>\n",
       "      <td>.06</td>\n",
       "      <td>-.51</td>\n",
       "      <td>-.68</td>\n",
       "      <td>-.52</td>\n",
       "      <td>-.54</td>\n",
       "      <td>-.49</td>\n",
       "      <td>***</td>\n",
       "      <td>***</td>\n",
       "      <td>-0.51</td>\n",
       "      <td>-.31</td>\n",
       "      <td>-.57</td>\n",
       "    </tr>\n",
       "    <tr>\n",
       "      <th>1881</th>\n",
       "      <td>-0.77</td>\n",
       "      <td>-0.62</td>\n",
       "      <td>-0.36</td>\n",
       "      <td>-0.27</td>\n",
       "      <td>-0.04</td>\n",
       "      <td>-1.14</td>\n",
       "      <td>-.54</td>\n",
       "      <td>-.27</td>\n",
       "      <td>-.35</td>\n",
       "      <td>-.49</td>\n",
       "      <td>-.58</td>\n",
       "      <td>-.14</td>\n",
       "      <td>-.47</td>\n",
       "      <td>-.50</td>\n",
       "      <td>-.64</td>\n",
       "      <td>-0.22</td>\n",
       "      <td>-.65</td>\n",
       "      <td>-.47</td>\n",
       "    </tr>\n",
       "  </tbody>\n",
       "</table>\n",
       "</div>"
      ],
      "text/plain": [
       "       JAN   FEB   MAR   APR   MAY   JUN   JUL   AUG   SEP   OCT   NOV   DEC  \\\n",
       "YEAR                                                                           \n",
       "1880 -0.83 -0.40 -0.48 -0.67 -0.37 -0.49  -.49   .06  -.51  -.68  -.52  -.54   \n",
       "1881 -0.77 -0.62 -0.36 -0.27 -0.04 -1.14  -.54  -.27  -.35  -.49  -.58  -.14   \n",
       "\n",
       "       J-D   D-N   DJF   MAM   JJA   SON  \n",
       "YEAR                                      \n",
       "1880  -.49   ***   *** -0.51  -.31  -.57  \n",
       "1881  -.47  -.50  -.64 -0.22  -.65  -.47  "
      ]
     },
     "execution_count": 38,
     "metadata": {},
     "output_type": "execute_result"
    }
   ],
   "source": [
    "glob.head(2)"
   ]
  },
  {
   "cell_type": "markdown",
   "metadata": {},
   "source": [
    "So let's plot the same but in subplots sharing the same x-axis."
   ]
  },
  {
   "cell_type": "code",
   "execution_count": 39,
   "metadata": {
    "collapsed": true
   },
   "outputs": [],
   "source": [
    "def plot_months(ax, index, bar_values, label=None, color='b', alpha=0.7, bar_width=0.2):\n",
    "    \n",
    "    if label is None:\n",
    "        \n",
    "        ax.bar(index, bar_values, bar_width,\n",
    "                     alpha=alpha,\n",
    "                     color=color)\n",
    "    else:\n",
    "        ax.bar(index, bar_values, bar_width,\n",
    "                     alpha=alpha,\n",
    "                     color=color,\n",
    "                     label=label)"
   ]
  },
  {
   "cell_type": "markdown",
   "metadata": {},
   "source": [
    "Let's start by plotting year 1880 for global, northern, and southern hemisphere."
   ]
  },
  {
   "cell_type": "code",
   "execution_count": 40,
   "metadata": {
    "collapsed": false
   },
   "outputs": [
    {
     "data": {
      "image/png": "[encoded data removed]",
      "text/plain": [
       "<matplotlib.figure.Figure at 0x1095e0518>"
      ]
     },
     "metadata": {},
     "output_type": "display_data"
    }
   ],
   "source": [
    "from matplotlib.font_manager import FontProperties\n",
    "\n",
    "font0 = FontProperties()\n",
    "YEARS = [1880, 1940, 2000, 2015]\n",
    "bar_width = 0.15\n",
    "pl.figure(figsize=(20, 10))\n",
    "index = np.arange(12)\n",
    "COLORS = ['blue', 'orange', 'red', 'green']\n",
    "# COLORS = ['blue', 'green', 'orange', 'red']\n",
    "\n",
    "ax1 = pl.subplot(311)\n",
    "\n",
    "for k, year in enumerate(YEARS):\n",
    "    tmp_1 = glob[glob.index==year][MONTHS]\n",
    "    for x in tmp_1.columns:\n",
    "        tmp_1[x] = pd.to_numeric(tmp_1[x])\n",
    "        tmp_1.replace('****', np.nan, inplace=True)\n",
    "        tmp_1.replace('***', np.nan, inplace=True)\n",
    "    plot_months(ax1, index + bar_width * k, tmp_1.values.ravel(), bar_width=bar_width, color=COLORS[k], \n",
    "                label=str(year))\n",
    "\n",
    "ax1.grid()\n",
    "ax1.set_ylim(-1, 1)\n",
    "ax1.set_ylabel('Temperature Anomaly (C)', size=12)\n",
    "pl.setp(ax1.get_xticklabels(), visible=False)\n",
    "ax1.legend(loc='upper left', ncol=2, fancybox=True, shadow=True) #, bbox_to_anchor=(1, 1.2))\n",
    "font1 = font0.copy()\n",
    "ax1.text(10.4, 1.6, 'Northern Hemisphere', color='black',  size=12,\n",
    "        bbox=dict(facecolor='none', edgecolor='none', boxstyle=None))#, fontproperties=font0.set_weight('bold'))\n",
    "\n",
    "\n",
    "# # share x only\n",
    "ax2 = pl.subplot(312, sharex=ax1, sharey=ax1)\n",
    "for k, year in enumerate(YEARS):\n",
    "    tmp_2 = southern[southern.index==year][MONTHS]\n",
    "    for x in tmp_2.columns:\n",
    "        tmp_2[x] = pd.to_numeric(tmp_2[x])\n",
    "        tmp_2.replace('****', np.nan, inplace=True)\n",
    "        tmp_2.replace('***', np.nan, inplace=True)\n",
    "    plot_months(ax2, index + bar_width * k, tmp_2.values.ravel(), bar_width=bar_width, color=COLORS[k], \n",
    "                label=str(year))\n",
    "\n",
    "ax2.grid()\n",
    "ax2.set_ylim(-1, 1)\n",
    "ax2.set_ylabel('Temperature Anomaly (C)', size=12)\n",
    "ax2.set_xticks(index + bar_width * 2)\n",
    "ax2.set_xticklabels( ('JAN', 'FEB', 'MAR', 'APR', 'MAY', 'JUN', 'JUL', 'AUG', 'SEP', 'OCT',\n",
    "       'NOV', 'DEC'), size=14)\n",
    "pl.xlim(-0.5, 12)\n",
    "pl.ylim(-1, 2)\n",
    "ax1.set_title('Temperature Anomalies from 1880 to 2015, by month', size=15)\n",
    "ax2.text(10.4, 1.6, 'Southern Hemisphere', color='black',  size=12,\n",
    "        bbox=dict(facecolor='none', edgecolor='none', boxstyle=None)) #, fontproperties=font0.weight('bold'))\n",
    "\n",
    "\n",
    "pl.tight_layout\n",
    "# pl.savefig('temp_anomalies.png')\n",
    "pl.show()\n"
   ]
  },
  {
   "cell_type": "code",
   "execution_count": null,
   "metadata": {
    "collapsed": true
   },
   "outputs": [],
   "source": []
  }
 ],
 "metadata": {
  "kernelspec": {
   "display_name": "Python 3",
   "language": "python",
   "name": "python3"
  },
  "language_info": {
   "codemirror_mode": {
    "name": "ipython",
    "version": 3
   },
   "file_extension": ".py",
   "mimetype": "text/x-python",
   "name": "python",
   "nbconvert_exporter": "python",
   "pygments_lexer": "ipython3",
   "version": "3.5.2"
  }
 },
 "nbformat": 4,
 "nbformat_minor": 1
}
