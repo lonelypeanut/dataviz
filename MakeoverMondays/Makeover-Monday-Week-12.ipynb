{
 "cells": [
  {
   "cell_type": "markdown",
   "metadata": {},
   "source": [
    "# Makeover Monday Week 12"
   ]
  },
  {
   "cell_type": "code",
   "execution_count": 48,
   "metadata": {
    "collapsed": false
   },
   "outputs": [],
   "source": [
    "import os\n",
    "import pandas as pd\n",
    "import datetime as datetime\n",
    "\n",
    "import matplotlib\n",
    "import matplotlib.pylab as pl\n",
    "\n",
    "import numpy as np\n",
    "import seaborn.apionly as sns\n",
    "%matplotlib inline"
   ]
  },
  {
   "cell_type": "markdown",
   "metadata": {},
   "source": [
    "Let's start by loading the data."
   ]
  },
  {
   "cell_type": "markdown",
   "metadata": {},
   "source": [
    "## Data"
   ]
  },
  {
   "cell_type": "markdown",
   "metadata": {},
   "source": [
    "Data source: https://data.world/sports/ncaa-mens-march-madness"
   ]
  },
  {
   "cell_type": "code",
   "execution_count": 52,
   "metadata": {
    "collapsed": true
   },
   "outputs": [],
   "source": [
    "data_folder = os.environ['HOME'] + '/Downloads/'"
   ]
  },
  {
   "cell_type": "code",
   "execution_count": 53,
   "metadata": {
    "collapsed": true
   },
   "outputs": [],
   "source": [
    "file = 'NCAA Mens March Madness Historical Results.csv'"
   ]
  },
  {
   "cell_type": "code",
   "execution_count": 54,
   "metadata": {
    "collapsed": true
   },
   "outputs": [],
   "source": [
    "data = pd.read_csv(data_folder + file)"
   ]
  },
  {
   "cell_type": "markdown",
   "metadata": {},
   "source": [
    "## Functions"
   ]
  },
  {
   "cell_type": "code",
   "execution_count": 5,
   "metadata": {
    "collapsed": true
   },
   "outputs": [],
   "source": [
    "# get rid of commas, spaces, upper case characters:\n",
    "def clean_name(name):\n",
    "    return name.replace(' ', '-').lower()"
   ]
  },
  {
   "cell_type": "code",
   "execution_count": 6,
   "metadata": {
    "collapsed": true
   },
   "outputs": [],
   "source": [
    "data.columns = [x.lower() for x in data.columns]\n",
    "data.columns = [x.replace(' ', '_') for x in data.columns]"
   ]
  },
  {
   "cell_type": "code",
   "execution_count": 7,
   "metadata": {
    "collapsed": false
   },
   "outputs": [],
   "source": [
    "# data.loser = data.loser.apply(lambda x: clean_name(x))\n",
    "# data.winner = data.winner.apply(lambda x: clean_name(x))"
   ]
  },
  {
   "cell_type": "code",
   "execution_count": 8,
   "metadata": {
    "collapsed": false
   },
   "outputs": [
    {
     "data": {
      "text/html": [
       "<div>\n",
       "<table border=\"1\" class=\"dataframe\">\n",
       "  <thead>\n",
       "    <tr style=\"text-align: right;\">\n",
       "      <th></th>\n",
       "      <th>date</th>\n",
       "      <th>round</th>\n",
       "      <th>region</th>\n",
       "      <th>winning_seed</th>\n",
       "      <th>winner</th>\n",
       "      <th>winning_score</th>\n",
       "      <th>losing_seed</th>\n",
       "      <th>loser</th>\n",
       "      <th>losing_score</th>\n",
       "      <th>overtime</th>\n",
       "    </tr>\n",
       "  </thead>\n",
       "  <tbody>\n",
       "    <tr>\n",
       "      <th>0</th>\n",
       "      <td>3/14/85</td>\n",
       "      <td>Round of 64</td>\n",
       "      <td>East</td>\n",
       "      <td>1</td>\n",
       "      <td>Georgetown</td>\n",
       "      <td>68</td>\n",
       "      <td>16</td>\n",
       "      <td>Lehigh</td>\n",
       "      <td>43</td>\n",
       "      <td>NaN</td>\n",
       "    </tr>\n",
       "    <tr>\n",
       "      <th>1</th>\n",
       "      <td>3/14/85</td>\n",
       "      <td>Round of 64</td>\n",
       "      <td>East</td>\n",
       "      <td>4</td>\n",
       "      <td>Loyola, Illinois</td>\n",
       "      <td>59</td>\n",
       "      <td>13</td>\n",
       "      <td>Iona</td>\n",
       "      <td>58</td>\n",
       "      <td>NaN</td>\n",
       "    </tr>\n",
       "  </tbody>\n",
       "</table>\n",
       "</div>"
      ],
      "text/plain": [
       "      date        round region  winning_seed            winner  winning_score  \\\n",
       "0  3/14/85  Round of 64   East             1        Georgetown             68   \n",
       "1  3/14/85  Round of 64   East             4  Loyola, Illinois             59   \n",
       "\n",
       "   losing_seed   loser  losing_score overtime  \n",
       "0           16  Lehigh            43      NaN  \n",
       "1           13    Iona            58      NaN  "
      ]
     },
     "execution_count": 8,
     "metadata": {},
     "output_type": "execute_result"
    }
   ],
   "source": [
    "data.head(2)"
   ]
  },
  {
   "cell_type": "code",
   "execution_count": 9,
   "metadata": {
    "collapsed": false
   },
   "outputs": [
    {
     "data": {
      "text/html": [
       "<div>\n",
       "<table border=\"1\" class=\"dataframe\">\n",
       "  <thead>\n",
       "    <tr style=\"text-align: right;\">\n",
       "      <th></th>\n",
       "      <th>date</th>\n",
       "      <th>round</th>\n",
       "      <th>region</th>\n",
       "      <th>winning_seed</th>\n",
       "      <th>winner</th>\n",
       "      <th>winning_score</th>\n",
       "      <th>losing_seed</th>\n",
       "      <th>loser</th>\n",
       "      <th>losing_score</th>\n",
       "      <th>overtime</th>\n",
       "    </tr>\n",
       "  </thead>\n",
       "  <tbody>\n",
       "    <tr>\n",
       "      <th>0</th>\n",
       "      <td>3/14/85</td>\n",
       "      <td>Round of 64</td>\n",
       "      <td>East</td>\n",
       "      <td>1</td>\n",
       "      <td>Georgetown</td>\n",
       "      <td>68</td>\n",
       "      <td>16</td>\n",
       "      <td>Lehigh</td>\n",
       "      <td>43</td>\n",
       "      <td>NaN</td>\n",
       "    </tr>\n",
       "  </tbody>\n",
       "</table>\n",
       "</div>"
      ],
      "text/plain": [
       "      date        round region  winning_seed      winner  winning_score  \\\n",
       "0  3/14/85  Round of 64   East             1  Georgetown             68   \n",
       "\n",
       "   losing_seed   loser  losing_score overtime  \n",
       "0           16  Lehigh            43      NaN  "
      ]
     },
     "execution_count": 9,
     "metadata": {},
     "output_type": "execute_result"
    }
   ],
   "source": [
    "data.head(1)"
   ]
  },
  {
   "cell_type": "code",
   "execution_count": 10,
   "metadata": {
    "collapsed": false
   },
   "outputs": [
    {
     "data": {
      "text/plain": [
       "array(['Round of 64', 'Round of 32', 'Sweet Sixteen', 'Elite Eight',\n",
       "       'National Semifinals', 'National Championship', 'Opening Round'], dtype=object)"
      ]
     },
     "execution_count": 10,
     "metadata": {},
     "output_type": "execute_result"
    }
   ],
   "source": [
    "data['round'].unique()"
   ]
  },
  {
   "cell_type": "markdown",
   "metadata": {},
   "source": [
    "Let's create a dictionary here so that we can introduce some order:"
   ]
  },
  {
   "cell_type": "code",
   "execution_count": 11,
   "metadata": {
    "collapsed": false
   },
   "outputs": [],
   "source": [
    "round_dict = {\n",
    "    'Opening Round': 1,\n",
    "    'Round of 64': 2, \n",
    "    'Round of 32': 3,\n",
    "    'Sweet Sixteen': 4, \n",
    "    'Elite Eight': 5,\n",
    "    'National Semifinals': 6, \n",
    "    'National Championship': 7}"
   ]
  },
  {
   "cell_type": "code",
   "execution_count": 12,
   "metadata": {
    "collapsed": false
   },
   "outputs": [],
   "source": [
    "data['round_num'] = [round_dict[x] for x in data['round'].values]"
   ]
  },
  {
   "cell_type": "markdown",
   "metadata": {},
   "source": [
    "Rename the \"round\" column as it interferes with Python's built-in 'round' function."
   ]
  },
  {
   "cell_type": "code",
   "execution_count": 13,
   "metadata": {
    "collapsed": false
   },
   "outputs": [],
   "source": [
    "data.rename(columns={'round': 'which_round'}, inplace=True)"
   ]
  },
  {
   "cell_type": "code",
   "execution_count": 14,
   "metadata": {
    "collapsed": false,
    "scrolled": false
   },
   "outputs": [
    {
     "data": {
      "text/html": [
       "<div>\n",
       "<table border=\"1\" class=\"dataframe\">\n",
       "  <thead>\n",
       "    <tr style=\"text-align: right;\">\n",
       "      <th></th>\n",
       "      <th>date</th>\n",
       "      <th>which_round</th>\n",
       "      <th>region</th>\n",
       "      <th>winning_seed</th>\n",
       "      <th>winner</th>\n",
       "      <th>winning_score</th>\n",
       "      <th>losing_seed</th>\n",
       "      <th>loser</th>\n",
       "      <th>losing_score</th>\n",
       "      <th>overtime</th>\n",
       "      <th>round_num</th>\n",
       "    </tr>\n",
       "  </thead>\n",
       "  <tbody>\n",
       "    <tr>\n",
       "      <th>0</th>\n",
       "      <td>3/14/85</td>\n",
       "      <td>Round of 64</td>\n",
       "      <td>East</td>\n",
       "      <td>1</td>\n",
       "      <td>Georgetown</td>\n",
       "      <td>68</td>\n",
       "      <td>16</td>\n",
       "      <td>Lehigh</td>\n",
       "      <td>43</td>\n",
       "      <td>NaN</td>\n",
       "      <td>2</td>\n",
       "    </tr>\n",
       "    <tr>\n",
       "      <th>1</th>\n",
       "      <td>3/14/85</td>\n",
       "      <td>Round of 64</td>\n",
       "      <td>East</td>\n",
       "      <td>4</td>\n",
       "      <td>Loyola, Illinois</td>\n",
       "      <td>59</td>\n",
       "      <td>13</td>\n",
       "      <td>Iona</td>\n",
       "      <td>58</td>\n",
       "      <td>NaN</td>\n",
       "      <td>2</td>\n",
       "    </tr>\n",
       "  </tbody>\n",
       "</table>\n",
       "</div>"
      ],
      "text/plain": [
       "      date  which_round region  winning_seed            winner  winning_score  \\\n",
       "0  3/14/85  Round of 64   East             1        Georgetown             68   \n",
       "1  3/14/85  Round of 64   East             4  Loyola, Illinois             59   \n",
       "\n",
       "   losing_seed   loser  losing_score overtime  round_num  \n",
       "0           16  Lehigh            43      NaN          2  \n",
       "1           13    Iona            58      NaN          2  "
      ]
     },
     "execution_count": 14,
     "metadata": {},
     "output_type": "execute_result"
    }
   ],
   "source": [
    "data.head(2)"
   ]
  },
  {
   "cell_type": "markdown",
   "metadata": {},
   "source": [
    "Let's make sure we've got the correct number of entries per round."
   ]
  },
  {
   "cell_type": "code",
   "execution_count": 15,
   "metadata": {
    "collapsed": true
   },
   "outputs": [],
   "source": [
    "data.date = pd.to_datetime(data.date)"
   ]
  },
  {
   "cell_type": "markdown",
   "metadata": {},
   "source": [
    "Let's add a column for year so that we can group events by year."
   ]
  },
  {
   "cell_type": "code",
   "execution_count": 16,
   "metadata": {
    "collapsed": false
   },
   "outputs": [],
   "source": [
    "data['year'] = data.date.apply(lambda x: x.year)"
   ]
  },
  {
   "cell_type": "code",
   "execution_count": 17,
   "metadata": {
    "collapsed": false
   },
   "outputs": [
    {
     "data": {
      "text/plain": [
       "year  which_round          \n",
       "1985  Elite Eight               4\n",
       "      National Championship     1\n",
       "      National Semifinals       2\n",
       "      Round of 32              16\n",
       "      Round of 64              32\n",
       "      Sweet Sixteen             8\n",
       "1986  Elite Eight               4\n",
       "      National Championship     1\n",
       "      National Semifinals       2\n",
       "      Round of 32              16\n",
       "      Round of 64              32\n",
       "      Sweet Sixteen             8\n",
       "Name: round_num, dtype: int64"
      ]
     },
     "execution_count": 17,
     "metadata": {},
     "output_type": "execute_result"
    }
   ],
   "source": [
    "data.groupby(['year', 'which_round']).count()['round_num'].head(12)"
   ]
  },
  {
   "cell_type": "markdown",
   "metadata": {},
   "source": [
    "Looks about right. Rounds leading up to the national championship take place in March while the championship takes place in April. Have data from 1985-2015. \n",
    "\n",
    "Note: Games can take place on different days for a same round (e.g. Round of 64 usually played on 2 consecutive days). Could think about writing tests, e.g. assert that have 32 rows for a 'Round of 64'."
   ]
  },
  {
   "cell_type": "code",
   "execution_count": 18,
   "metadata": {
    "collapsed": false
   },
   "outputs": [],
   "source": [
    "# data[data.date == '1985-03-14']"
   ]
  },
  {
   "cell_type": "code",
   "execution_count": 19,
   "metadata": {
    "collapsed": false
   },
   "outputs": [
    {
     "name": "stdout",
     "output_type": "stream",
     "text": [
      "186 292\n"
     ]
    }
   ],
   "source": [
    "print(len(data.winner.unique()), len(data.loser.unique()))"
   ]
  },
  {
   "cell_type": "code",
   "execution_count": 20,
   "metadata": {
    "collapsed": false
   },
   "outputs": [
    {
     "data": {
      "text/plain": [
       "292"
      ]
     },
     "execution_count": 20,
     "metadata": {},
     "output_type": "execute_result"
    }
   ],
   "source": [
    "len(set([*data.loser, *data.winner]))"
   ]
  },
  {
   "cell_type": "markdown",
   "metadata": {},
   "source": [
    "Have a total of 292 different teams."
   ]
  },
  {
   "cell_type": "code",
   "execution_count": 21,
   "metadata": {
    "collapsed": false
   },
   "outputs": [
    {
     "data": {
      "text/plain": [
       "array(['East', 'Midwest', 'Southeast', 'West', 'National Semifinals',\n",
       "       'National Championship', 'South', 'Southwest', nan], dtype=object)"
      ]
     },
     "execution_count": 21,
     "metadata": {},
     "output_type": "execute_result"
    }
   ],
   "source": [
    "data.region.unique()"
   ]
  },
  {
   "cell_type": "code",
   "execution_count": 22,
   "metadata": {
    "collapsed": true
   },
   "outputs": [],
   "source": [
    "data.to_csv(data_folder + 'ncaa_cleaned.csv')"
   ]
  },
  {
   "cell_type": "markdown",
   "metadata": {},
   "source": [
    "Interesting to note:\n",
    "- an extra round was added in 2001\n"
   ]
  },
  {
   "cell_type": "markdown",
   "metadata": {},
   "source": [
    "Want to bin the seed values. Then interested in seeing a scatter plot."
   ]
  },
  {
   "cell_type": "code",
   "execution_count": 23,
   "metadata": {
    "collapsed": false
   },
   "outputs": [],
   "source": [
    "bins = np.linspace(0, 16 , 5)"
   ]
  },
  {
   "cell_type": "code",
   "execution_count": 24,
   "metadata": {
    "collapsed": false
   },
   "outputs": [],
   "source": [
    "data['winning_seed_bin'] = np.digitize(data.winning_seed, bins)\n",
    "data['losing_seed_bin'] = np.digitize(data.losing_seed, bins)"
   ]
  },
  {
   "cell_type": "markdown",
   "metadata": {},
   "source": [
    "Also want to introduce bins for years! "
   ]
  },
  {
   "cell_type": "code",
   "execution_count": 25,
   "metadata": {
    "collapsed": false
   },
   "outputs": [],
   "source": [
    "# year_bins = np.linspace(1985, 2016, 7)\n",
    "year_bins = np.arange(1985, 2016, 5)"
   ]
  },
  {
   "cell_type": "code",
   "execution_count": 26,
   "metadata": {
    "collapsed": false
   },
   "outputs": [
    {
     "data": {
      "text/plain": [
       "array([1985, 1990, 1995, 2000, 2005, 2010, 2015])"
      ]
     },
     "execution_count": 26,
     "metadata": {},
     "output_type": "execute_result"
    }
   ],
   "source": [
    "year_bins"
   ]
  },
  {
   "cell_type": "code",
   "execution_count": 27,
   "metadata": {
    "collapsed": true
   },
   "outputs": [],
   "source": [
    "bin_vals = ['1985-1989', '1990-1994', '1995-1999', '2000-2004', '2004-2009', '2010-2014', '2015-2016']"
   ]
  },
  {
   "cell_type": "code",
   "execution_count": 28,
   "metadata": {
    "collapsed": false
   },
   "outputs": [
    {
     "name": "stdout",
     "output_type": "stream",
     "text": [
      "7 7\n"
     ]
    }
   ],
   "source": [
    "print(len(bin_vals), len(year_bins))"
   ]
  },
  {
   "cell_type": "code",
   "execution_count": 29,
   "metadata": {
    "collapsed": false
   },
   "outputs": [],
   "source": [
    "bin_dict = {x + 1: bin_vals[x] for x in range(len(year_bins))}"
   ]
  },
  {
   "cell_type": "code",
   "execution_count": 30,
   "metadata": {
    "collapsed": true
   },
   "outputs": [],
   "source": [
    "data['year_bin'] = np.digitize(data.year, year_bins)"
   ]
  },
  {
   "cell_type": "code",
   "execution_count": 31,
   "metadata": {
    "collapsed": true
   },
   "outputs": [],
   "source": [
    "# introduced categorical variables:\n",
    "data.winning_seed_bin = data.winning_seed_bin.astype(\"category\", categories=[1, 2, 3, 4], ordered=False)\n",
    "data.losing_seed_bin = data.losing_seed_bin.astype(\"category\", categories=[1, 2, 3, 4], ordered=False)"
   ]
  },
  {
   "cell_type": "code",
   "execution_count": 32,
   "metadata": {
    "collapsed": false
   },
   "outputs": [],
   "source": [
    "seed_data = data.groupby(['winning_seed_bin', 'losing_seed_bin', 'round_num']).count()['year'].reset_index()"
   ]
  },
  {
   "cell_type": "markdown",
   "metadata": {},
   "source": [
    "Notice that when a first round exists, seeds 1 to 10 not included.\n",
    "Would like to include seeds that are not represented in a given round for consistency. Maybe pivot first?"
   ]
  },
  {
   "cell_type": "code",
   "execution_count": 33,
   "metadata": {
    "collapsed": false
   },
   "outputs": [],
   "source": [
    "# seed_data[seed_data.round_num==4]"
   ]
  },
  {
   "cell_type": "code",
   "execution_count": 34,
   "metadata": {
    "collapsed": true
   },
   "outputs": [],
   "source": [
    "def seed_vs_seed(df, round_num=1):\n",
    "    \"\"\"Return statistics of winners and losers for different seed groups.\"\"\"\n",
    "    tmp = df[df.round_num==round_num][['winning_seed_bin', 'losing_seed_bin',\n",
    "                                         'year']].pivot('winning_seed_bin', 'losing_seed_bin', 'year')\n",
    "    return tmp.fillna(0)"
   ]
  },
  {
   "cell_type": "code",
   "execution_count": 35,
   "metadata": {
    "collapsed": false
   },
   "outputs": [
    {
     "data": {
      "text/plain": [
       "{'Elite Eight': 5,\n",
       " 'National Championship': 7,\n",
       " 'National Semifinals': 6,\n",
       " 'Opening Round': 1,\n",
       " 'Round of 32': 3,\n",
       " 'Round of 64': 2,\n",
       " 'Sweet Sixteen': 4}"
      ]
     },
     "execution_count": 35,
     "metadata": {},
     "output_type": "execute_result"
    }
   ],
   "source": [
    "round_dict"
   ]
  },
  {
   "cell_type": "code",
   "execution_count": 36,
   "metadata": {
    "collapsed": false
   },
   "outputs": [
    {
     "name": "stdout",
     "output_type": "stream",
     "text": [
      "1\n",
      "12.0\n",
      "2\n",
      "896.0\n",
      "3\n",
      "512.0\n",
      "4\n",
      "256.0\n",
      "5\n",
      "128.0\n",
      "6\n",
      "64.0\n",
      "7\n",
      "32.0\n"
     ]
    }
   ],
   "source": [
    "for i in range(1, 8):\n",
    "    print(i)\n",
    "    tmp = seed_vs_seed(seed_data, round_num=i)\n",
    "    print(tmp.sum().sum())"
   ]
  },
  {
   "cell_type": "code",
   "execution_count": 37,
   "metadata": {
    "collapsed": false,
    "scrolled": true
   },
   "outputs": [
    {
     "name": "stdout",
     "output_type": "stream",
     "text": [
      "Round  7\n"
     ]
    },
    {
     "data": {
      "image/png": "[encoded data removed]",
      "text/plain": [
       "<matplotlib.figure.Figure at 0x1060cd550>"
      ]
     },
     "metadata": {},
     "output_type": "display_data"
    }
   ],
   "source": [
    "break_num = 6\n",
    "for i in reversed(range(1, 8)):\n",
    "    \n",
    "    if i == break_num:\n",
    "        break\n",
    "    \n",
    "    print('Round ', str(i))\n",
    "    pl.clf()  # this is not working !! \n",
    "    \n",
    "    fig = sns.set()\n",
    "    tmp = seed_vs_seed(seed_data, i)\n",
    "    \n",
    "    # normalise:\n",
    "    norm_factor = tmp.sum().sum()\n",
    "    tmp = round(tmp / norm_factor * 100, 1)\n",
    "    \n",
    "    ax = sns.heatmap(tmp, linewidths=.5, annot=True, vmin=0, vmax=100)\n",
    "    ax.xaxis.tick_top()\n",
    "    for t in ax.texts: \n",
    "        t.set_text(t.get_text() + \" %\")\n",
    "    pl.show()  "
   ]
  },
  {
   "cell_type": "markdown",
   "metadata": {},
   "source": [
    "### Want to show change in proportions over the years."
   ]
  },
  {
   "cell_type": "code",
   "execution_count": 38,
   "metadata": {
    "collapsed": false
   },
   "outputs": [
    {
     "data": {
      "text/plain": [
       "32"
      ]
     },
     "execution_count": 38,
     "metadata": {},
     "output_type": "execute_result"
    }
   ],
   "source": [
    "len(data.year.unique())"
   ]
  },
  {
   "cell_type": "code",
   "execution_count": 39,
   "metadata": {
    "collapsed": false
   },
   "outputs": [],
   "source": [
    "seed_year = data.groupby(['winning_seed_bin', 'losing_seed_bin', 'year_bin',\n",
    "                          'round_num']).count()['date'].reset_index().fillna(0)"
   ]
  },
  {
   "cell_type": "code",
   "execution_count": 40,
   "metadata": {
    "collapsed": true
   },
   "outputs": [],
   "source": [
    "def rem_xy():\n",
    "    '''Removes superfluous x ticks when multiple subplots  share\n",
    "    their axis works only in pylab mode but can easily be rewritten\n",
    "    for api use'''\n",
    "    nr_ax=len(pl.gcf().get_axes())\n",
    "    count=0\n",
    "    for z in reversed(pl.gcf().get_axes()):\n",
    "        if count == nr_ax-1: break\n",
    "        \n",
    "        pl.setp(z.get_yticklabels(),visible=False)\n",
    "        pl.setp(z.get_xticklabels(),visible=False)\n",
    "        \n",
    "        z.set_ylabel('')\n",
    "        z.set_xlabel('')\n",
    "        count+=1"
   ]
  },
  {
   "cell_type": "code",
   "execution_count": 41,
   "metadata": {
    "collapsed": false
   },
   "outputs": [],
   "source": [
    "# some names in the round names dictionary a bit too long so let's rename a few:\n",
    "round_dict['Ntl Champ'] = round_dict.pop('National Championship')\n",
    "round_dict['Ntl Semis'] = round_dict.pop('National Semifinals')"
   ]
  },
  {
   "cell_type": "code",
   "execution_count": 42,
   "metadata": {
    "collapsed": true
   },
   "outputs": [],
   "source": [
    "ivd = {v: k for k, v in round_dict.items()}"
   ]
  },
  {
   "cell_type": "code",
   "execution_count": 43,
   "metadata": {
    "collapsed": false,
    "scrolled": false
   },
   "outputs": [
    {
     "data": {
      "text/plain": [
       "{1: 'Opening Round',\n",
       " 2: 'Round of 64',\n",
       " 3: 'Round of 32',\n",
       " 4: 'Sweet Sixteen',\n",
       " 5: 'Elite Eight',\n",
       " 6: 'Ntl Semis',\n",
       " 7: 'Ntl Champ'}"
      ]
     },
     "execution_count": 43,
     "metadata": {},
     "output_type": "execute_result"
    }
   ],
   "source": [
    "ivd"
   ]
  },
  {
   "cell_type": "code",
   "execution_count": 44,
   "metadata": {
    "collapsed": true
   },
   "outputs": [],
   "source": [
    "def add_labels(y_subplots=[6, 13, 20, 27, 34, 41],\n",
    "              x_subplots=range(35, 42)):\n",
    "    \n",
    "    nr_ax=len(pl.gcf().get_axes())\n",
    "    count=0\n",
    "    for k, z in enumerate(pl.gcf().get_axes()):\n",
    "        \n",
    "        if k in y_subplots:\n",
    "            z.set_ylabel(ivd[(k + 1 + 7) // 7],  fontsize=14)\n",
    "            z.yaxis.set_label_position(\"right\")\n",
    "        \n",
    "        if k in x_subplots:\n",
    "            key_val = k % 7 + 1\n",
    "            z.set_xlabel(bin_dict[key_val], fontsize=16)"
   ]
  },
  {
   "cell_type": "code",
   "execution_count": 47,
   "metadata": {
    "collapsed": false
   },
   "outputs": [
    {
     "data": {
      "image/png": "[encoded data removed]",
      "text/plain": [
       "<matplotlib.figure.Figure at 0x106b5d1d0>"
      ]
     },
     "metadata": {},
     "output_type": "display_data"
    }
   ],
   "source": [
    "p = 1\n",
    "sns.set()\n",
    "pl.tight_layout\n",
    "pl.figure(figsize=(20, 15))\n",
    "\n",
    "for round_num in range(2, 8):\n",
    "    \n",
    "    for year in range(1, 8):\n",
    "\n",
    "        tmp = seed_year[seed_year.year_bin == year]\n",
    "        tmp = tmp[tmp.round_num==round_num]  # set round number\n",
    "        tmp = tmp[['winning_seed_bin', 'losing_seed_bin', \n",
    "                   'date']].pivot('winning_seed_bin', 'losing_seed_bin', 'date')\n",
    "\n",
    "        # normalise:\n",
    "        norm_factor = tmp.sum().sum()\n",
    "        tmp = round(tmp / norm_factor * 100, 1)\n",
    "\n",
    "        ax_sp = pl.subplot(7, 7, p)\n",
    "        ax = sns.heatmap(tmp, linewidths=.5, vmin=0, vmax=100, ax=ax_sp, cbar=False,)\n",
    "        ax.set_xticklabels(['1-4', '5-8', '9-12', '13-16'])\n",
    "        ax.set_yticklabels(['1-4', '5-8', '9-12', '13-16'])\n",
    "        ax.xaxis.tick_top()\n",
    "        \n",
    "        ax.set_ylabel('Winning seed', fontsize=12)\n",
    "        ax.set_xlabel('Losing seed',  fontsize=12)\n",
    "        p += 1\n",
    "\n",
    "    rem_xy()\n",
    "    add_labels()\n",
    "pl.savefig('NCCA.png')\n",
    "pl.show()  "
   ]
  },
  {
   "cell_type": "markdown",
   "metadata": {},
   "source": [
    "**STILL TODO:**\n",
    "- Need to add a legend here with an explanation of how I binned the seeds (explains the black boxes). "
   ]
  },
  {
   "cell_type": "code",
   "execution_count": null,
   "metadata": {
    "collapsed": true
   },
   "outputs": [],
   "source": []
  }
 ],
 "metadata": {
  "kernelspec": {
   "display_name": "Python 3",
   "language": "python",
   "name": "python3"
  },
  "language_info": {
   "codemirror_mode": {
    "name": "ipython",
    "version": 3
   },
   "file_extension": ".py",
   "mimetype": "text/x-python",
   "name": "python",
   "nbconvert_exporter": "python",
   "pygments_lexer": "ipython3",
   "version": "3.5.2"
  }
 },
 "nbformat": 4,
 "nbformat_minor": 1
}
