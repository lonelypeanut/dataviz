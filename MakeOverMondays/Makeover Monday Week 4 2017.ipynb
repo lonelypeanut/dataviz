{
 "cells": [
  {
   "cell_type": "markdown",
   "metadata": {},
   "source": [
    "# NZ domestic tourist data"
   ]
  },
  {
   "cell_type": "code",
   "execution_count": 5,
   "metadata": {
    "collapsed": false
   },
   "outputs": [],
   "source": [
    "from os import listdir\n",
    "import matplotlib.pylab as pl\n",
    "import seaborn as sns\n",
    "import pandas as pd\n",
    "import datetime as datetime"
   ]
  },
  {
   "cell_type": "code",
   "execution_count": 6,
   "metadata": {
    "collapsed": false,
    "scrolled": false
   },
   "outputs": [],
   "source": [
    "import xlrd\n",
    "from openpyxl import Workbook"
   ]
  },
  {
   "cell_type": "code",
   "execution_count": 7,
   "metadata": {
    "collapsed": false
   },
   "outputs": [],
   "source": [
    "data_folder = 'data/'"
   ]
  },
  {
   "cell_type": "code",
   "execution_count": 8,
   "metadata": {
    "collapsed": false
   },
   "outputs": [
    {
     "data": {
      "text/plain": [
       "['International & Domestic RTI data for NZ.xlsx']"
      ]
     },
     "execution_count": 8,
     "metadata": {},
     "output_type": "execute_result"
    }
   ],
   "source": [
    "files = listdir(data_folder)\n",
    "files"
   ]
  },
  {
   "cell_type": "code",
   "execution_count": 10,
   "metadata": {
    "collapsed": false
   },
   "outputs": [],
   "source": [
    "metadata = pd.read_excel(data_folder + files[0])"
   ]
  },
  {
   "cell_type": "code",
   "execution_count": 11,
   "metadata": {
    "collapsed": false
   },
   "outputs": [
    {
     "data": {
      "text/html": [
       "<div>\n",
       "<table border=\"1\" class=\"dataframe\">\n",
       "  <thead>\n",
       "    <tr style=\"text-align: right;\">\n",
       "      <th></th>\n",
       "      <th>Name</th>\n",
       "      <th>Type</th>\n",
       "      <th>Role</th>\n",
       "      <th>Definition</th>\n",
       "    </tr>\n",
       "  </thead>\n",
       "  <tbody>\n",
       "    <tr>\n",
       "      <th>0</th>\n",
       "      <td>Year</td>\n",
       "      <td>Int16</td>\n",
       "      <td>Dimension</td>\n",
       "      <td>Year of tourism expenditure</td>\n",
       "    </tr>\n",
       "    <tr>\n",
       "      <th>1</th>\n",
       "      <td>Month</td>\n",
       "      <td>V_String</td>\n",
       "      <td>Dimension</td>\n",
       "      <td>Month of tourism expenditure</td>\n",
       "    </tr>\n",
       "    <tr>\n",
       "      <th>2</th>\n",
       "      <td>Period</td>\n",
       "      <td>Date</td>\n",
       "      <td>Dimension</td>\n",
       "      <td>Last day of the month during which tourism spe...</td>\n",
       "    </tr>\n",
       "    <tr>\n",
       "      <th>3</th>\n",
       "      <td>Visitor Type</td>\n",
       "      <td>V_String</td>\n",
       "      <td>Dimension</td>\n",
       "      <td>International or domestic visitors to New Zealand</td>\n",
       "    </tr>\n",
       "    <tr>\n",
       "      <th>4</th>\n",
       "      <td>Region</td>\n",
       "      <td>V_String</td>\n",
       "      <td>Dimension</td>\n",
       "      <td>NZ is divided in 16 regions for devolved local...</td>\n",
       "    </tr>\n",
       "    <tr>\n",
       "      <th>5</th>\n",
       "      <td>Regional Tourism Indicator (baseline 100)</td>\n",
       "      <td>Double</td>\n",
       "      <td>Measure</td>\n",
       "      <td>The RTI measures the change in level of expend...</td>\n",
       "    </tr>\n",
       "  </tbody>\n",
       "</table>\n",
       "</div>"
      ],
      "text/plain": [
       "                                        Name      Type       Role  \\\n",
       "0                                       Year     Int16  Dimension   \n",
       "1                                      Month  V_String  Dimension   \n",
       "2                                     Period      Date  Dimension   \n",
       "3                               Visitor Type  V_String  Dimension   \n",
       "4                                     Region  V_String  Dimension   \n",
       "5  Regional Tourism Indicator (baseline 100)    Double    Measure   \n",
       "\n",
       "                                          Definition  \n",
       "0                        Year of tourism expenditure  \n",
       "1                       Month of tourism expenditure  \n",
       "2  Last day of the month during which tourism spe...  \n",
       "3  International or domestic visitors to New Zealand  \n",
       "4  NZ is divided in 16 regions for devolved local...  \n",
       "5  The RTI measures the change in level of expend...  "
      ]
     },
     "execution_count": 11,
     "metadata": {},
     "output_type": "execute_result"
    }
   ],
   "source": [
    "metadata"
   ]
  },
  {
   "cell_type": "code",
   "execution_count": 13,
   "metadata": {
    "collapsed": false
   },
   "outputs": [],
   "source": [
    "data = pd.read_excel(data_folder + files[0], sheetname='Data')"
   ]
  },
  {
   "cell_type": "code",
   "execution_count": 14,
   "metadata": {
    "collapsed": false
   },
   "outputs": [
    {
     "data": {
      "text/plain": [
       "(13400, 6)"
      ]
     },
     "execution_count": 14,
     "metadata": {},
     "output_type": "execute_result"
    }
   ],
   "source": [
    "data.shape"
   ]
  },
  {
   "cell_type": "code",
   "execution_count": 15,
   "metadata": {
    "collapsed": false
   },
   "outputs": [
    {
     "data": {
      "text/html": [
       "<div>\n",
       "<table border=\"1\" class=\"dataframe\">\n",
       "  <thead>\n",
       "    <tr style=\"text-align: right;\">\n",
       "      <th></th>\n",
       "      <th>Year</th>\n",
       "      <th>Month</th>\n",
       "      <th>Period</th>\n",
       "      <th>Visitor Type</th>\n",
       "      <th>Region</th>\n",
       "      <th>Regional Tourism Indicator (baseline 100)</th>\n",
       "    </tr>\n",
       "  </thead>\n",
       "  <tbody>\n",
       "    <tr>\n",
       "      <th>0</th>\n",
       "      <td>2008</td>\n",
       "      <td>January</td>\n",
       "      <td>2008-01-31</td>\n",
       "      <td>Domestic</td>\n",
       "      <td>Ashburton District</td>\n",
       "      <td>103</td>\n",
       "    </tr>\n",
       "    <tr>\n",
       "      <th>1</th>\n",
       "      <td>2008</td>\n",
       "      <td>January</td>\n",
       "      <td>2008-01-31</td>\n",
       "      <td>Domestic</td>\n",
       "      <td>Auckland</td>\n",
       "      <td>94</td>\n",
       "    </tr>\n",
       "  </tbody>\n",
       "</table>\n",
       "</div>"
      ],
      "text/plain": [
       "   Year    Month     Period Visitor Type              Region  \\\n",
       "0  2008  January 2008-01-31     Domestic  Ashburton District   \n",
       "1  2008  January 2008-01-31     Domestic            Auckland   \n",
       "\n",
       "   Regional Tourism Indicator (baseline 100)  \n",
       "0                                        103  \n",
       "1                                         94  "
      ]
     },
     "execution_count": 15,
     "metadata": {},
     "output_type": "execute_result"
    }
   ],
   "source": [
    "data.head(2)"
   ]
  },
  {
   "cell_type": "markdown",
   "metadata": {},
   "source": [
    "Let's start by plotting a single year by Region and possibly visitor type to see if anything interesting jumps out!\n",
    "\n",
    "First questions:\n",
    "\n",
    "- how many years?"
   ]
  },
  {
   "cell_type": "code",
   "execution_count": 16,
   "metadata": {
    "collapsed": false
   },
   "outputs": [
    {
     "data": {
      "text/plain": [
       "array([2008, 2009, 2010, 2011, 2012, 2013, 2014, 2015, 2016])"
      ]
     },
     "execution_count": 16,
     "metadata": {},
     "output_type": "execute_result"
    }
   ],
   "source": [
    "data.Year.unique()"
   ]
  },
  {
   "cell_type": "code",
   "execution_count": 17,
   "metadata": {
    "collapsed": false
   },
   "outputs": [],
   "source": [
    "# data.groupby(['Year', 'Month', 'Visitor Type']).count()"
   ]
  },
  {
   "cell_type": "markdown",
   "metadata": {},
   "source": [
    "Note: data for 2016 incomplete, only have the first 4 months. Let's focus on 2010 as an example."
   ]
  },
  {
   "cell_type": "code",
   "execution_count": 18,
   "metadata": {
    "collapsed": false
   },
   "outputs": [],
   "source": [
    "# data.groupby('Region').count()"
   ]
  },
  {
   "cell_type": "markdown",
   "metadata": {},
   "source": [
    "We have 67 Regions (or Territorial Authorities) these would be useful to group on a map so that larger areas can appear. Doing that will take more than an hour though! So the question here is how do we make something interesting with geospatial data but no maps.. \n",
    "\n",
    "Ideas:\n",
    "\n",
    "- how about areas with the biggest changes? If we take 2008 to 2015?"
   ]
  },
  {
   "cell_type": "code",
   "execution_count": 19,
   "metadata": {
    "collapsed": false
   },
   "outputs": [],
   "source": [
    "# let's create a datetime column so that we can sort the values:\n",
    "y_2008 = data[data.Year == 2008].copy()\n",
    "y_2008 = y_2008.groupby(['Year', 'Region', 'Visitor Type']).mean().reset_index().round(2)\n",
    "# y_2008"
   ]
  },
  {
   "cell_type": "code",
   "execution_count": 20,
   "metadata": {
    "collapsed": true
   },
   "outputs": [],
   "source": [
    "y_2015 = data[data.Year == 2015].copy()\n",
    "y_2015 = y_2015.groupby(['Year', 'Region', 'Visitor Type']).mean().reset_index().round(2)"
   ]
  },
  {
   "cell_type": "code",
   "execution_count": 21,
   "metadata": {
    "collapsed": false,
    "scrolled": true
   },
   "outputs": [
    {
     "data": {
      "text/html": [
       "<div>\n",
       "<table border=\"1\" class=\"dataframe\">\n",
       "  <thead>\n",
       "    <tr style=\"text-align: right;\">\n",
       "      <th></th>\n",
       "      <th>Year</th>\n",
       "      <th>Region</th>\n",
       "      <th>Visitor Type</th>\n",
       "      <th>RTI_2008</th>\n",
       "    </tr>\n",
       "  </thead>\n",
       "  <tbody>\n",
       "    <tr>\n",
       "      <th>0</th>\n",
       "      <td>2008</td>\n",
       "      <td>Ashburton District</td>\n",
       "      <td>Domestic</td>\n",
       "      <td>99.83</td>\n",
       "    </tr>\n",
       "    <tr>\n",
       "      <th>1</th>\n",
       "      <td>2008</td>\n",
       "      <td>Ashburton District</td>\n",
       "      <td>International</td>\n",
       "      <td>99.92</td>\n",
       "    </tr>\n",
       "  </tbody>\n",
       "</table>\n",
       "</div>"
      ],
      "text/plain": [
       "   Year              Region   Visitor Type  RTI_2008\n",
       "0  2008  Ashburton District       Domestic     99.83\n",
       "1  2008  Ashburton District  International     99.92"
      ]
     },
     "execution_count": 21,
     "metadata": {},
     "output_type": "execute_result"
    }
   ],
   "source": [
    "# need to separate domestic and international too\n",
    "y_2008.rename(columns={'Regional Tourism Indicator (baseline 100)': 'RTI_2008'}, inplace=True)\n",
    "y_2008.head(2)"
   ]
  },
  {
   "cell_type": "code",
   "execution_count": 22,
   "metadata": {
    "collapsed": false
   },
   "outputs": [
    {
     "data": {
      "text/html": [
       "<div>\n",
       "<table border=\"1\" class=\"dataframe\">\n",
       "  <thead>\n",
       "    <tr style=\"text-align: right;\">\n",
       "      <th></th>\n",
       "      <th>Year</th>\n",
       "      <th>Region</th>\n",
       "      <th>Visitor Type</th>\n",
       "      <th>RTI_2015</th>\n",
       "    </tr>\n",
       "  </thead>\n",
       "  <tbody>\n",
       "    <tr>\n",
       "      <th>0</th>\n",
       "      <td>2015</td>\n",
       "      <td>Ashburton District</td>\n",
       "      <td>Domestic</td>\n",
       "      <td>132.58</td>\n",
       "    </tr>\n",
       "    <tr>\n",
       "      <th>1</th>\n",
       "      <td>2015</td>\n",
       "      <td>Ashburton District</td>\n",
       "      <td>International</td>\n",
       "      <td>105.08</td>\n",
       "    </tr>\n",
       "  </tbody>\n",
       "</table>\n",
       "</div>"
      ],
      "text/plain": [
       "   Year              Region   Visitor Type  RTI_2015\n",
       "0  2015  Ashburton District       Domestic    132.58\n",
       "1  2015  Ashburton District  International    105.08"
      ]
     },
     "execution_count": 22,
     "metadata": {},
     "output_type": "execute_result"
    }
   ],
   "source": [
    "y_2015.rename(columns={'Regional Tourism Indicator (baseline 100)': 'RTI_2015'}, inplace=True)\n",
    "y_2015.head(2)"
   ]
  },
  {
   "cell_type": "code",
   "execution_count": 23,
   "metadata": {
    "collapsed": false
   },
   "outputs": [
    {
     "data": {
      "text/plain": [
       "(134, 4)"
      ]
     },
     "execution_count": 23,
     "metadata": {},
     "output_type": "execute_result"
    }
   ],
   "source": [
    "y_2015.shape"
   ]
  },
  {
   "cell_type": "code",
   "execution_count": 24,
   "metadata": {
    "collapsed": false
   },
   "outputs": [],
   "source": [
    "comp_df = pd.merge(y_2008[['Region', 'Visitor Type', 'RTI_2008']],\n",
    "         y_2015[['Region', 'Visitor Type', 'RTI_2015']], on=['Region', 'Visitor Type'])"
   ]
  },
  {
   "cell_type": "code",
   "execution_count": 25,
   "metadata": {
    "collapsed": false
   },
   "outputs": [],
   "source": [
    "comp_df['2008_2015'] = comp_df.RTI_2015 - comp_df.RTI_2008"
   ]
  },
  {
   "cell_type": "code",
   "execution_count": 26,
   "metadata": {
    "collapsed": true
   },
   "outputs": [],
   "source": [
    "NUM_EX = 5"
   ]
  },
  {
   "cell_type": "code",
   "execution_count": 27,
   "metadata": {
    "collapsed": true
   },
   "outputs": [],
   "source": [
    "comp_df_int = comp_df[comp_df['Visitor Type'] == 'International']\n",
    "comp_df_dom = comp_df[comp_df['Visitor Type'] == 'Domestic']"
   ]
  },
  {
   "cell_type": "code",
   "execution_count": 28,
   "metadata": {
    "collapsed": false
   },
   "outputs": [],
   "source": [
    "top_winners_int = comp_df_int.sort_values(by='2008_2015', ascending=False).head(NUM_EX)\n",
    "top_winners_int['region_type'] = 'Winner'\n",
    "\n",
    "top_winners_dom = comp_df_dom.sort_values(by='2008_2015', ascending=False).head(NUM_EX)\n",
    "top_winners_dom['region_type'] = 'Winner'"
   ]
  },
  {
   "cell_type": "code",
   "execution_count": 29,
   "metadata": {
    "collapsed": false
   },
   "outputs": [],
   "source": [
    "top_losers_int = comp_df_int.sort_values(by='2008_2015', ascending=False).tail(NUM_EX)\n",
    "top_losers_int['region_type'] = 'Loser'\n",
    "\n",
    "top_losers_dom = comp_df_dom.sort_values(by='2008_2015', ascending=False).tail(NUM_EX)\n",
    "top_losers_dom['region_type'] = 'Loser'"
   ]
  },
  {
   "cell_type": "code",
   "execution_count": 30,
   "metadata": {
    "collapsed": false
   },
   "outputs": [],
   "source": [
    "top_10s_int = pd.concat([top_winners_int, top_losers_int])\n",
    "top_10s_dom = pd.concat([top_winners_dom, top_losers_dom])"
   ]
  },
  {
   "cell_type": "markdown",
   "metadata": {},
   "source": [
    "Combine both dataframes by adding an additional categorical column."
   ]
  },
  {
   "cell_type": "code",
   "execution_count": 31,
   "metadata": {
    "collapsed": false,
    "scrolled": false
   },
   "outputs": [
    {
     "data": {
      "image/png": "[encoded data removed]",
      "text/plain": [
       "<matplotlib.figure.Figure at 0x1102ab550>"
      ]
     },
     "metadata": {},
     "output_type": "display_data"
    }
   ],
   "source": [
    "sns.set(style=\"whitegrid\", font_scale=1.3)\n",
    "\n",
    "pl.figure(figsize=(10, 15))\n",
    "pl.tight_layout\n",
    "\n",
    "ax = pl.subplot(1, 2, 1)\n",
    "sns.barplot(x=\"2008_2015\", y=\"Region\", data=top_10s_int, hue='region_type', hue_order=['Winner', 'Loser'],\n",
    "           palette={'Winner': 'g', 'Loser': 'r'})\n",
    "ax.set_ylabel('')\n",
    "ax.legend(ncol=2, loc=\"lower right\", frameon=True)\n",
    "ax.set_xlabel('Change in RTI per Region')\n",
    "ax.set_ylabel('')\n",
    "\n",
    "ax.set_title('International Visitors')\n",
    "\n",
    "ax2 = pl.subplot(1, 2, 2)\n",
    "sns.barplot(x=\"2008_2015\", y=\"Region\", data=top_10s_dom, hue='region_type', # hue_order=['Winner', 'Loser'],\n",
    "           palette={'Winner': 'g', 'Loser': 'r'})\n",
    "\n",
    "ax2.legend(ncol=2, loc=\"lower right\", frameon=True)\n",
    "# ax2.legend('')\n",
    "ax2.set_ylabel('')\n",
    "# ax2.yaxis.set_label_position(\"right\")\n",
    "ax2.yaxis.set_ticks_position('right')\n",
    "ax2.set_xlabel('Change in RTI per Region')\n",
    "ax2.set_title('Domestic Visitors')\n",
    "pl.savefig('RTI_change_2008_2015.png', bbox_inches='tight')\n",
    "pl.show()\n"
   ]
  },
  {
   "cell_type": "code",
   "execution_count": null,
   "metadata": {
    "collapsed": true
   },
   "outputs": [],
   "source": []
  }
 ],
 "metadata": {
  "kernelspec": {
   "display_name": "Python 3",
   "language": "python",
   "name": "python3"
  },
  "language_info": {
   "codemirror_mode": {
    "name": "ipython",
    "version": 3
   },
   "file_extension": ".py",
   "mimetype": "text/x-python",
   "name": "python",
   "nbconvert_exporter": "python",
   "pygments_lexer": "ipython3",
   "version": "3.5.2"
  }
 },
 "nbformat": 4,
 "nbformat_minor": 1
}
